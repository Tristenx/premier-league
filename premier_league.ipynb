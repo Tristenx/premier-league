{
 "cells": [
  {
   "cell_type": "markdown",
   "id": "54a4c967",
   "metadata": {},
   "source": [
    "# Premier league Analysis\n",
    "## Imports"
   ]
  },
  {
   "cell_type": "code",
   "execution_count": 255,
   "id": "04a6e14c",
   "metadata": {},
   "outputs": [],
   "source": [
    "import pandas as pd"
   ]
  },
  {
   "cell_type": "markdown",
   "id": "0b8a376d",
   "metadata": {},
   "source": [
    "## Data Sourcing"
   ]
  },
  {
   "cell_type": "code",
   "execution_count": 256,
   "id": "b571c85a",
   "metadata": {},
   "outputs": [],
   "source": [
    "premier_league_data = pd.read_csv(\"premier_league_data.csv\")"
   ]
  },
  {
   "cell_type": "markdown",
   "id": "51a5991b",
   "metadata": {},
   "source": [
    "## Data Cleaning"
   ]
  },
  {
   "cell_type": "code",
   "execution_count": 265,
   "id": "d472408c",
   "metadata": {},
   "outputs": [
    {
     "data": {
      "text/html": [
       "<div>\n",
       "<style scoped>\n",
       "    .dataframe tbody tr th:only-of-type {\n",
       "        vertical-align: middle;\n",
       "    }\n",
       "\n",
       "    .dataframe tbody tr th {\n",
       "        vertical-align: top;\n",
       "    }\n",
       "\n",
       "    .dataframe thead th {\n",
       "        text-align: right;\n",
       "    }\n",
       "</style>\n",
       "<table border=\"1\" class=\"dataframe\">\n",
       "  <thead>\n",
       "    <tr style=\"text-align: right;\">\n",
       "      <th></th>\n",
       "      <th>season</th>\n",
       "      <th>match_week</th>\n",
       "      <th>home_team</th>\n",
       "      <th>away_team</th>\n",
       "      <th>score</th>\n",
       "      <th>home_score</th>\n",
       "      <th>away_score</th>\n",
       "      <th>winner</th>\n",
       "    </tr>\n",
       "  </thead>\n",
       "  <tbody>\n",
       "    <tr>\n",
       "      <th>0</th>\n",
       "      <td>2012</td>\n",
       "      <td>1</td>\n",
       "      <td>Arsenal</td>\n",
       "      <td>Sunderland</td>\n",
       "      <td>0 - 0</td>\n",
       "      <td>0</td>\n",
       "      <td>0</td>\n",
       "      <td>Draw</td>\n",
       "    </tr>\n",
       "    <tr>\n",
       "      <th>1</th>\n",
       "      <td>2012</td>\n",
       "      <td>1</td>\n",
       "      <td>Fulham</td>\n",
       "      <td>Norwich City</td>\n",
       "      <td>5 - 0</td>\n",
       "      <td>5</td>\n",
       "      <td>0</td>\n",
       "      <td>Fulham</td>\n",
       "    </tr>\n",
       "    <tr>\n",
       "      <th>2</th>\n",
       "      <td>2012</td>\n",
       "      <td>1</td>\n",
       "      <td>Queens Park Rangers</td>\n",
       "      <td>Swansea City</td>\n",
       "      <td>0 - 5</td>\n",
       "      <td>0</td>\n",
       "      <td>5</td>\n",
       "      <td>Swansea City</td>\n",
       "    </tr>\n",
       "    <tr>\n",
       "      <th>3</th>\n",
       "      <td>2012</td>\n",
       "      <td>1</td>\n",
       "      <td>Reading</td>\n",
       "      <td>Stoke City</td>\n",
       "      <td>1 - 1</td>\n",
       "      <td>1</td>\n",
       "      <td>1</td>\n",
       "      <td>Draw</td>\n",
       "    </tr>\n",
       "    <tr>\n",
       "      <th>4</th>\n",
       "      <td>2012</td>\n",
       "      <td>1</td>\n",
       "      <td>West Bromwich Albion</td>\n",
       "      <td>Liverpool</td>\n",
       "      <td>3 - 0</td>\n",
       "      <td>3</td>\n",
       "      <td>0</td>\n",
       "      <td>West Bromwich Albion</td>\n",
       "    </tr>\n",
       "  </tbody>\n",
       "</table>\n",
       "</div>"
      ],
      "text/plain": [
       "   season  match_week             home_team     away_team  score  home_score  \\\n",
       "0    2012           1               Arsenal    Sunderland  0 - 0           0   \n",
       "1    2012           1                Fulham  Norwich City  5 - 0           5   \n",
       "2    2012           1   Queens Park Rangers  Swansea City  0 - 5           0   \n",
       "3    2012           1               Reading    Stoke City  1 - 1           1   \n",
       "4    2012           1  West Bromwich Albion     Liverpool  3 - 0           3   \n",
       "\n",
       "   away_score                winner  \n",
       "0           0                  Draw  \n",
       "1           0                Fulham  \n",
       "2           5          Swansea City  \n",
       "3           1                  Draw  \n",
       "4           0  West Bromwich Albion  "
      ]
     },
     "execution_count": 265,
     "metadata": {},
     "output_type": "execute_result"
    }
   ],
   "source": [
    "premier_league_data.head()"
   ]
  },
  {
   "cell_type": "markdown",
   "id": "c300b9ef",
   "metadata": {},
   "source": [
    "### Remove Unnamed Column"
   ]
  },
  {
   "cell_type": "code",
   "execution_count": 258,
   "id": "7e60fe4a",
   "metadata": {},
   "outputs": [],
   "source": [
    "premier_league_data = premier_league_data.drop(columns=[\"Unnamed: 0\"])"
   ]
  },
  {
   "cell_type": "markdown",
   "id": "29f5cf28",
   "metadata": {},
   "source": [
    "### Add home_score Column"
   ]
  },
  {
   "cell_type": "code",
   "execution_count": 259,
   "id": "eb74429e",
   "metadata": {},
   "outputs": [],
   "source": [
    "premier_league_data[\"home_score\"] = premier_league_data[\"score\"].apply(lambda x: x.split(\" - \")[0])"
   ]
  },
  {
   "cell_type": "markdown",
   "id": "7a2bd6fd",
   "metadata": {},
   "source": [
    "### Add away_score Column"
   ]
  },
  {
   "cell_type": "code",
   "execution_count": 260,
   "id": "7c53a821",
   "metadata": {},
   "outputs": [],
   "source": [
    "premier_league_data[\"away_score\"] = premier_league_data[\"score\"].apply(lambda x: x.split(\" - \")[1])"
   ]
  },
  {
   "cell_type": "markdown",
   "id": "b144b453",
   "metadata": {},
   "source": [
    "### Alter home_score and away_score Type"
   ]
  },
  {
   "cell_type": "code",
   "execution_count": 261,
   "id": "a4d9ad51",
   "metadata": {},
   "outputs": [],
   "source": [
    "premier_league_data[\"home_score\"] = premier_league_data[\"home_score\"].astype(\"int\")"
   ]
  },
  {
   "cell_type": "code",
   "execution_count": 262,
   "id": "f5dca9aa",
   "metadata": {},
   "outputs": [],
   "source": [
    "premier_league_data[\"away_score\"] = premier_league_data[\"away_score\"].astype(\"int\")"
   ]
  },
  {
   "cell_type": "markdown",
   "id": "9bb8b169",
   "metadata": {},
   "source": [
    "### Add winner Column"
   ]
  },
  {
   "cell_type": "code",
   "execution_count": 263,
   "id": "b95a6a0c",
   "metadata": {},
   "outputs": [],
   "source": [
    "def find_winner(x) -> str:\n",
    "    \"\"\"Returns the winning team based on score.\"\"\"\n",
    "    if x[\"home_score\"] > x[\"away_score\"]:\n",
    "        return x[\"home_team\"]\n",
    "    if x[\"home_score\"] < x[\"away_score\"]:\n",
    "        return x[\"away_team\"]\n",
    "    return \"Draw\""
   ]
  },
  {
   "cell_type": "code",
   "execution_count": 264,
   "id": "203b4f43",
   "metadata": {},
   "outputs": [],
   "source": [
    "premier_league_data[\"winner\"] = premier_league_data.apply(find_winner, axis=1)"
   ]
  }
 ],
 "metadata": {
  "kernelspec": {
   "display_name": ".venv",
   "language": "python",
   "name": "python3"
  },
  "language_info": {
   "codemirror_mode": {
    "name": "ipython",
    "version": 3
   },
   "file_extension": ".py",
   "mimetype": "text/x-python",
   "name": "python",
   "nbconvert_exporter": "python",
   "pygments_lexer": "ipython3",
   "version": "3.13.6"
  }
 },
 "nbformat": 4,
 "nbformat_minor": 5
}
