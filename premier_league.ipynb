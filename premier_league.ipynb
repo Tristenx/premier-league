{
 "cells": [
  {
   "cell_type": "markdown",
   "id": "54a4c967",
   "metadata": {},
   "source": [
    "# Premier league Analysis\n",
    "## Imports"
   ]
  },
  {
   "cell_type": "code",
   "execution_count": 1004,
   "id": "04a6e14c",
   "metadata": {},
   "outputs": [],
   "source": [
    "import pandas as pd\n",
    "import altair as alt\n",
    "from sklearn.model_selection import train_test_split\n",
    "from sklearn.tree import DecisionTreeClassifier, plot_tree\n",
    "from sklearn.metrics import ConfusionMatrixDisplay, precision_score, recall_score\n",
    "import matplotlib as plt"
   ]
  },
  {
   "cell_type": "markdown",
   "id": "59f9e1ff",
   "metadata": {},
   "source": [
    "## Setup"
   ]
  },
  {
   "cell_type": "code",
   "execution_count": 1005,
   "id": "cdd46e17",
   "metadata": {},
   "outputs": [],
   "source": [
    "pd.options.display.max_columns = None"
   ]
  },
  {
   "cell_type": "markdown",
   "id": "0b8a376d",
   "metadata": {},
   "source": [
    "## Data Sourcing"
   ]
  },
  {
   "cell_type": "code",
   "execution_count": 1006,
   "id": "b571c85a",
   "metadata": {},
   "outputs": [],
   "source": [
    "premier_league_data = pd.read_csv(\"premier_league_data.csv\")"
   ]
  },
  {
   "cell_type": "markdown",
   "id": "51a5991b",
   "metadata": {},
   "source": [
    "## Data Cleaning"
   ]
  },
  {
   "cell_type": "code",
   "execution_count": 1007,
   "id": "d472408c",
   "metadata": {},
   "outputs": [
    {
     "data": {
      "text/html": [
       "<div>\n",
       "<style scoped>\n",
       "    .dataframe tbody tr th:only-of-type {\n",
       "        vertical-align: middle;\n",
       "    }\n",
       "\n",
       "    .dataframe tbody tr th {\n",
       "        vertical-align: top;\n",
       "    }\n",
       "\n",
       "    .dataframe thead th {\n",
       "        text-align: right;\n",
       "    }\n",
       "</style>\n",
       "<table border=\"1\" class=\"dataframe\">\n",
       "  <thead>\n",
       "    <tr style=\"text-align: right;\">\n",
       "      <th></th>\n",
       "      <th>Unnamed: 0</th>\n",
       "      <th>season</th>\n",
       "      <th>match_week</th>\n",
       "      <th>home_team</th>\n",
       "      <th>away_team</th>\n",
       "      <th>score</th>\n",
       "    </tr>\n",
       "  </thead>\n",
       "  <tbody>\n",
       "    <tr>\n",
       "      <th>0</th>\n",
       "      <td>0</td>\n",
       "      <td>2012</td>\n",
       "      <td>1</td>\n",
       "      <td>Arsenal</td>\n",
       "      <td>Sunderland</td>\n",
       "      <td>0 - 0</td>\n",
       "    </tr>\n",
       "    <tr>\n",
       "      <th>1</th>\n",
       "      <td>1</td>\n",
       "      <td>2012</td>\n",
       "      <td>1</td>\n",
       "      <td>Fulham</td>\n",
       "      <td>Norwich City</td>\n",
       "      <td>5 - 0</td>\n",
       "    </tr>\n",
       "    <tr>\n",
       "      <th>2</th>\n",
       "      <td>2</td>\n",
       "      <td>2012</td>\n",
       "      <td>1</td>\n",
       "      <td>Queens Park Rangers</td>\n",
       "      <td>Swansea City</td>\n",
       "      <td>0 - 5</td>\n",
       "    </tr>\n",
       "    <tr>\n",
       "      <th>3</th>\n",
       "      <td>3</td>\n",
       "      <td>2012</td>\n",
       "      <td>1</td>\n",
       "      <td>Reading</td>\n",
       "      <td>Stoke City</td>\n",
       "      <td>1 - 1</td>\n",
       "    </tr>\n",
       "    <tr>\n",
       "      <th>4</th>\n",
       "      <td>4</td>\n",
       "      <td>2012</td>\n",
       "      <td>1</td>\n",
       "      <td>West Bromwich Albion</td>\n",
       "      <td>Liverpool</td>\n",
       "      <td>3 - 0</td>\n",
       "    </tr>\n",
       "  </tbody>\n",
       "</table>\n",
       "</div>"
      ],
      "text/plain": [
       "   Unnamed: 0  season  match_week             home_team     away_team  score\n",
       "0           0    2012           1               Arsenal    Sunderland  0 - 0\n",
       "1           1    2012           1                Fulham  Norwich City  5 - 0\n",
       "2           2    2012           1   Queens Park Rangers  Swansea City  0 - 5\n",
       "3           3    2012           1               Reading    Stoke City  1 - 1\n",
       "4           4    2012           1  West Bromwich Albion     Liverpool  3 - 0"
      ]
     },
     "execution_count": 1007,
     "metadata": {},
     "output_type": "execute_result"
    }
   ],
   "source": [
    "premier_league_data.head()"
   ]
  },
  {
   "cell_type": "markdown",
   "id": "c300b9ef",
   "metadata": {},
   "source": [
    "### Remove Unnamed Column"
   ]
  },
  {
   "cell_type": "code",
   "execution_count": 1008,
   "id": "7e60fe4a",
   "metadata": {},
   "outputs": [],
   "source": [
    "premier_league_data = premier_league_data.drop(columns=[\"Unnamed: 0\"])"
   ]
  },
  {
   "cell_type": "markdown",
   "id": "29f5cf28",
   "metadata": {},
   "source": [
    "### Add home_score Column"
   ]
  },
  {
   "cell_type": "code",
   "execution_count": 1009,
   "id": "eb74429e",
   "metadata": {},
   "outputs": [],
   "source": [
    "premier_league_data[\"home_score\"] = premier_league_data[\"score\"].apply(lambda x: x.split(\" - \")[0])"
   ]
  },
  {
   "cell_type": "markdown",
   "id": "7a2bd6fd",
   "metadata": {},
   "source": [
    "### Add away_score Column"
   ]
  },
  {
   "cell_type": "code",
   "execution_count": 1010,
   "id": "7c53a821",
   "metadata": {},
   "outputs": [],
   "source": [
    "premier_league_data[\"away_score\"] = premier_league_data[\"score\"].apply(lambda x: x.split(\" - \")[1])"
   ]
  },
  {
   "cell_type": "markdown",
   "id": "b144b453",
   "metadata": {},
   "source": [
    "### Alter home_score and away_score Type"
   ]
  },
  {
   "cell_type": "code",
   "execution_count": 1011,
   "id": "a4d9ad51",
   "metadata": {},
   "outputs": [],
   "source": [
    "premier_league_data[\"home_score\"] = premier_league_data[\"home_score\"].astype(\"int\")"
   ]
  },
  {
   "cell_type": "code",
   "execution_count": 1012,
   "id": "f5dca9aa",
   "metadata": {},
   "outputs": [],
   "source": [
    "premier_league_data[\"away_score\"] = premier_league_data[\"away_score\"].astype(\"int\")"
   ]
  },
  {
   "cell_type": "markdown",
   "id": "9bb8b169",
   "metadata": {},
   "source": [
    "### Add winner Column"
   ]
  },
  {
   "cell_type": "code",
   "execution_count": 1013,
   "id": "b95a6a0c",
   "metadata": {},
   "outputs": [],
   "source": [
    "def find_winner(x) -> str:\n",
    "    \"\"\"Returns the winning team based on score.\"\"\"\n",
    "    if x[\"home_score\"] > x[\"away_score\"]:\n",
    "        return x[\"home_team\"]\n",
    "    if x[\"home_score\"] < x[\"away_score\"]:\n",
    "        return x[\"away_team\"]\n",
    "    return \"Draw\""
   ]
  },
  {
   "cell_type": "code",
   "execution_count": 1014,
   "id": "203b4f43",
   "metadata": {},
   "outputs": [],
   "source": [
    "premier_league_data[\"winner\"] = premier_league_data.apply(find_winner, axis=1)"
   ]
  },
  {
   "cell_type": "markdown",
   "id": "7bbd7e54",
   "metadata": {},
   "source": [
    "## Data Exploration"
   ]
  },
  {
   "cell_type": "code",
   "execution_count": 1015,
   "id": "b229c69a",
   "metadata": {},
   "outputs": [
    {
     "data": {
      "text/html": [
       "<div>\n",
       "<style scoped>\n",
       "    .dataframe tbody tr th:only-of-type {\n",
       "        vertical-align: middle;\n",
       "    }\n",
       "\n",
       "    .dataframe tbody tr th {\n",
       "        vertical-align: top;\n",
       "    }\n",
       "\n",
       "    .dataframe thead th {\n",
       "        text-align: right;\n",
       "    }\n",
       "</style>\n",
       "<table border=\"1\" class=\"dataframe\">\n",
       "  <thead>\n",
       "    <tr style=\"text-align: right;\">\n",
       "      <th></th>\n",
       "      <th>season</th>\n",
       "      <th>match_week</th>\n",
       "      <th>home_team</th>\n",
       "      <th>away_team</th>\n",
       "      <th>score</th>\n",
       "      <th>home_score</th>\n",
       "      <th>away_score</th>\n",
       "      <th>winner</th>\n",
       "    </tr>\n",
       "  </thead>\n",
       "  <tbody>\n",
       "    <tr>\n",
       "      <th>0</th>\n",
       "      <td>2012</td>\n",
       "      <td>1</td>\n",
       "      <td>Arsenal</td>\n",
       "      <td>Sunderland</td>\n",
       "      <td>0 - 0</td>\n",
       "      <td>0</td>\n",
       "      <td>0</td>\n",
       "      <td>Draw</td>\n",
       "    </tr>\n",
       "    <tr>\n",
       "      <th>1</th>\n",
       "      <td>2012</td>\n",
       "      <td>1</td>\n",
       "      <td>Fulham</td>\n",
       "      <td>Norwich City</td>\n",
       "      <td>5 - 0</td>\n",
       "      <td>5</td>\n",
       "      <td>0</td>\n",
       "      <td>Fulham</td>\n",
       "    </tr>\n",
       "    <tr>\n",
       "      <th>2</th>\n",
       "      <td>2012</td>\n",
       "      <td>1</td>\n",
       "      <td>Queens Park Rangers</td>\n",
       "      <td>Swansea City</td>\n",
       "      <td>0 - 5</td>\n",
       "      <td>0</td>\n",
       "      <td>5</td>\n",
       "      <td>Swansea City</td>\n",
       "    </tr>\n",
       "    <tr>\n",
       "      <th>3</th>\n",
       "      <td>2012</td>\n",
       "      <td>1</td>\n",
       "      <td>Reading</td>\n",
       "      <td>Stoke City</td>\n",
       "      <td>1 - 1</td>\n",
       "      <td>1</td>\n",
       "      <td>1</td>\n",
       "      <td>Draw</td>\n",
       "    </tr>\n",
       "    <tr>\n",
       "      <th>4</th>\n",
       "      <td>2012</td>\n",
       "      <td>1</td>\n",
       "      <td>West Bromwich Albion</td>\n",
       "      <td>Liverpool</td>\n",
       "      <td>3 - 0</td>\n",
       "      <td>3</td>\n",
       "      <td>0</td>\n",
       "      <td>West Bromwich Albion</td>\n",
       "    </tr>\n",
       "  </tbody>\n",
       "</table>\n",
       "</div>"
      ],
      "text/plain": [
       "   season  match_week             home_team     away_team  score  home_score  \\\n",
       "0    2012           1               Arsenal    Sunderland  0 - 0           0   \n",
       "1    2012           1                Fulham  Norwich City  5 - 0           5   \n",
       "2    2012           1   Queens Park Rangers  Swansea City  0 - 5           0   \n",
       "3    2012           1               Reading    Stoke City  1 - 1           1   \n",
       "4    2012           1  West Bromwich Albion     Liverpool  3 - 0           3   \n",
       "\n",
       "   away_score                winner  \n",
       "0           0                  Draw  \n",
       "1           0                Fulham  \n",
       "2           5          Swansea City  \n",
       "3           1                  Draw  \n",
       "4           0  West Bromwich Albion  "
      ]
     },
     "execution_count": 1015,
     "metadata": {},
     "output_type": "execute_result"
    }
   ],
   "source": [
    "premier_league_data.head()"
   ]
  },
  {
   "cell_type": "code",
   "execution_count": 1016,
   "id": "23aec846",
   "metadata": {},
   "outputs": [],
   "source": [
    "win_count = premier_league_data[\"winner\"].value_counts().reset_index()\n",
    "win_count = win_count[win_count[\"winner\"] != \"Draw\"]"
   ]
  },
  {
   "cell_type": "code",
   "execution_count": 1017,
   "id": "7b7ae452",
   "metadata": {},
   "outputs": [
    {
     "data": {
      "text/html": [
       "\n",
       "<style>\n",
       "  #altair-viz-ea020a5d532749eda53406e7c79cbfae.vega-embed {\n",
       "    width: 100%;\n",
       "    display: flex;\n",
       "  }\n",
       "\n",
       "  #altair-viz-ea020a5d532749eda53406e7c79cbfae.vega-embed details,\n",
       "  #altair-viz-ea020a5d532749eda53406e7c79cbfae.vega-embed details summary {\n",
       "    position: relative;\n",
       "  }\n",
       "</style>\n",
       "<div id=\"altair-viz-ea020a5d532749eda53406e7c79cbfae\"></div>\n",
       "<script type=\"text/javascript\">\n",
       "  var VEGA_DEBUG = (typeof VEGA_DEBUG == \"undefined\") ? {} : VEGA_DEBUG;\n",
       "  (function(spec, embedOpt){\n",
       "    let outputDiv = document.currentScript.previousElementSibling;\n",
       "    if (outputDiv.id !== \"altair-viz-ea020a5d532749eda53406e7c79cbfae\") {\n",
       "      outputDiv = document.getElementById(\"altair-viz-ea020a5d532749eda53406e7c79cbfae\");\n",
       "    }\n",
       "\n",
       "    const paths = {\n",
       "      \"vega\": \"https://cdn.jsdelivr.net/npm/vega@5?noext\",\n",
       "      \"vega-lib\": \"https://cdn.jsdelivr.net/npm/vega-lib?noext\",\n",
       "      \"vega-lite\": \"https://cdn.jsdelivr.net/npm/vega-lite@5.20.1?noext\",\n",
       "      \"vega-embed\": \"https://cdn.jsdelivr.net/npm/vega-embed@6?noext\",\n",
       "    };\n",
       "\n",
       "    function maybeLoadScript(lib, version) {\n",
       "      var key = `${lib.replace(\"-\", \"\")}_version`;\n",
       "      return (VEGA_DEBUG[key] == version) ?\n",
       "        Promise.resolve(paths[lib]) :\n",
       "        new Promise(function(resolve, reject) {\n",
       "          var s = document.createElement('script');\n",
       "          document.getElementsByTagName(\"head\")[0].appendChild(s);\n",
       "          s.async = true;\n",
       "          s.onload = () => {\n",
       "            VEGA_DEBUG[key] = version;\n",
       "            return resolve(paths[lib]);\n",
       "          };\n",
       "          s.onerror = () => reject(`Error loading script: ${paths[lib]}`);\n",
       "          s.src = paths[lib];\n",
       "        });\n",
       "    }\n",
       "\n",
       "    function showError(err) {\n",
       "      outputDiv.innerHTML = `<div class=\"error\" style=\"color:red;\">${err}</div>`;\n",
       "      throw err;\n",
       "    }\n",
       "\n",
       "    function displayChart(vegaEmbed) {\n",
       "      vegaEmbed(outputDiv, spec, embedOpt)\n",
       "        .catch(err => showError(`Javascript Error: ${err.message}<br>This usually means there's a typo in your chart specification. See the javascript console for the full traceback.`));\n",
       "    }\n",
       "\n",
       "    if(typeof define === \"function\" && define.amd) {\n",
       "      requirejs.config({paths});\n",
       "      let deps = [\"vega-embed\"];\n",
       "      require(deps, displayChart, err => showError(`Error loading script: ${err.message}`));\n",
       "    } else {\n",
       "      maybeLoadScript(\"vega\", \"5\")\n",
       "        .then(() => maybeLoadScript(\"vega-lite\", \"5.20.1\"))\n",
       "        .then(() => maybeLoadScript(\"vega-embed\", \"6\"))\n",
       "        .catch(showError)\n",
       "        .then(() => displayChart(vegaEmbed));\n",
       "    }\n",
       "  })({\"config\": {\"view\": {\"continuousWidth\": 300, \"continuousHeight\": 300}}, \"data\": {\"name\": \"data-7c3b1d5e887ce2cb8973a4ee93d0a98e\"}, \"mark\": {\"type\": \"bar\"}, \"encoding\": {\"x\": {\"field\": \"winner\", \"type\": \"nominal\"}, \"y\": {\"field\": \"count\", \"type\": \"quantitative\"}}, \"$schema\": \"https://vega.github.io/schema/vega-lite/v5.20.1.json\", \"datasets\": {\"data-7c3b1d5e887ce2cb8973a4ee93d0a98e\": [{\"winner\": \"Manchester City\", \"count\": 339}, {\"winner\": \"Liverpool\", \"count\": 297}, {\"winner\": \"Arsenal\", \"count\": 278}, {\"winner\": \"Chelsea\", \"count\": 266}, {\"winner\": \"Tottenham Hotspur\", \"count\": 257}, {\"winner\": \"Manchester United\", \"count\": 255}, {\"winner\": \"Everton\", \"count\": 178}, {\"winner\": \"West Ham United\", \"count\": 169}, {\"winner\": \"Newcastle United\", \"count\": 162}, {\"winner\": \"Crystal Palace\", \"count\": 145}, {\"winner\": \"Leicester City\", \"count\": 140}, {\"winner\": \"Southampton\", \"count\": 132}, {\"winner\": \"Aston Villa\", \"count\": 128}, {\"winner\": \"Bournemouth\", \"count\": 95}, {\"winner\": \"Brighton and Hove Albion\", \"count\": 94}, {\"winner\": \"Wolverhampton Wanderers\", \"count\": 94}, {\"winner\": \"Burnley\", \"count\": 80}, {\"winner\": \"Fulham\", \"count\": 75}, {\"winner\": \"Swansea City\", \"count\": 70}, {\"winner\": \"Stoke City\", \"count\": 69}, {\"winner\": \"West Bromwich Albion\", \"count\": 65}, {\"winner\": \"Watford\", \"count\": 62}, {\"winner\": \"Brentford\", \"count\": 54}, {\"winner\": \"Sunderland\", \"count\": 41}, {\"winner\": \"Norwich City\", \"count\": 37}, {\"winner\": \"Nottingham Forest\", \"count\": 37}, {\"winner\": \"Leeds United\", \"count\": 34}, {\"winner\": \"Hull City\", \"count\": 27}, {\"winner\": \"Sheffield United\", \"count\": 24}, {\"winner\": \"Cardiff City\", \"count\": 17}, {\"winner\": \"Queens Park Rangers\", \"count\": 12}, {\"winner\": \"Huddersfield Town\", \"count\": 12}, {\"winner\": \"Wigan Athletic\", \"count\": 9}, {\"winner\": \"Luton Town\", \"count\": 6}, {\"winner\": \"Reading\", \"count\": 6}, {\"winner\": \"Middlesbrough\", \"count\": 5}, {\"winner\": \"Ipswich Town\", \"count\": 4}]}}, {\"mode\": \"vega-lite\"});\n",
       "</script>"
      ],
      "text/plain": [
       "alt.Chart(...)"
      ]
     },
     "execution_count": 1017,
     "metadata": {},
     "output_type": "execute_result"
    }
   ],
   "source": [
    "alt.Chart(win_count).mark_bar().encode(\n",
    "    x = \"winner\",\n",
    "    y = \"count\"\n",
    ")"
   ]
  }
 ],
 "metadata": {
  "kernelspec": {
   "display_name": ".venv",
   "language": "python",
   "name": "python3"
  },
  "language_info": {
   "codemirror_mode": {
    "name": "ipython",
    "version": 3
   },
   "file_extension": ".py",
   "mimetype": "text/x-python",
   "name": "python",
   "nbconvert_exporter": "python",
   "pygments_lexer": "ipython3",
   "version": "3.13.6"
  }
 },
 "nbformat": 4,
 "nbformat_minor": 5
}
